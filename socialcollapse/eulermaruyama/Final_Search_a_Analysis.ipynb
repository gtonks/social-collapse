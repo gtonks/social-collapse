{
 "cells": [
  {
   "cell_type": "code",
   "execution_count": null,
   "id": "c35addcc-636d-404f-9149-2c956c7928e5",
   "metadata": {},
   "outputs": [],
   "source": [
    "import numpy as np\n",
    "import matplotlib.pyplot as plt"
   ]
  },
  {
   "cell_type": "code",
   "execution_count": null,
   "id": "85154425-6e26-4544-a74e-04eceb1c929b",
   "metadata": {},
   "outputs": [],
   "source": [
    "data = np.load(\"../../final_search_over_a.npz\")"
   ]
  },
  {
   "cell_type": "code",
   "execution_count": null,
   "id": "63b850e8-4cd9-4b4a-a88f-e8ba7bac45c5",
   "metadata": {},
   "outputs": [],
   "source": [
    "list(data.keys())"
   ]
  },
  {
   "cell_type": "code",
   "execution_count": null,
   "id": "a3916dcd-8978-4091-92ae-1c24670709ea",
   "metadata": {},
   "outputs": [],
   "source": [
    "data['dimensions']"
   ]
  },
  {
   "cell_type": "code",
   "execution_count": null,
   "id": "f0b198a9-7000-44de-b074-29cb4a2e52bf",
   "metadata": {},
   "outputs": [],
   "source": [
    "data['x_final'].shape"
   ]
  },
  {
   "cell_type": "code",
   "execution_count": null,
   "id": "c1ddf9a0-bfac-494a-96c0-bd573221e8bb",
   "metadata": {},
   "outputs": [],
   "source": [
    "n_trials = data['x_final'].shape[2]"
   ]
  },
  {
   "cell_type": "code",
   "execution_count": null,
   "id": "bf2c2222-9b80-4036-a938-f9646af0f6e5",
   "metadata": {},
   "outputs": [],
   "source": [
    "data['a_s']"
   ]
  },
  {
   "cell_type": "code",
   "execution_count": null,
   "id": "f6820654-0139-49fa-b4ac-6240f155bc60",
   "metadata": {},
   "outputs": [],
   "source": [
    "data['x_steady']"
   ]
  },
  {
   "cell_type": "code",
   "execution_count": null,
   "id": "91c14c1a-0d7b-4af2-8409-c648d41a9f77",
   "metadata": {},
   "outputs": [],
   "source": [
    "data['H_steady']"
   ]
  },
  {
   "cell_type": "code",
   "execution_count": null,
   "id": "f57db66a-4f95-4b6e-a755-b6f2d0ed76c9",
   "metadata": {},
   "outputs": [],
   "source": [
    "x_final_second_b = data['x_final'][1,:,:]"
   ]
  },
  {
   "cell_type": "code",
   "execution_count": null,
   "id": "16fd41fa-ced2-4bce-be38-601a4cb86e09",
   "metadata": {},
   "outputs": [],
   "source": [
    "H_final_second_b = data['H_final'][1,:,:]"
   ]
  },
  {
   "cell_type": "code",
   "execution_count": null,
   "id": "ce374d1c-d0a7-4dc7-94f7-2ddf333d7b80",
   "metadata": {},
   "outputs": [],
   "source": [
    "x_final_second_b.mean(axis=1)"
   ]
  },
  {
   "cell_type": "code",
   "execution_count": null,
   "id": "7f9efde4",
   "metadata": {},
   "outputs": [],
   "source": [
    "def plot_spread(ax, data_2d, sigmas, n_trials, show_std=True):\n",
    "    data_flat = data_2d.flatten()\n",
    "    sigma_flat = np.repeat(sigmas, n_trials)\n",
    "    ax.plot(sigma_flat, data_flat, 'o', alpha=0.01, label='Trial Result')\n",
    "\n",
    "    data_mean = data_2d.mean(axis=-1)\n",
    "    ax.plot(sigmas, data_mean, 'r--o', alpha=0.7, label='Mean')\n",
    "\n",
    "    if show_std:\n",
    "        data_std = data_2d.std(axis=-1)\n",
    "        ax.fill_between(sigmas, data_mean - data_std, data_mean + data_std, color='gray', alpha=0.5, label='Standard Deviation')"
   ]
  },
  {
   "cell_type": "code",
   "execution_count": null,
   "id": "03630d5c",
   "metadata": {},
   "outputs": [],
   "source": [
    "ax = plt.subplot()\n",
    "\n",
    "plot_spread(ax, x_final_second_b, data['sigmas'], n_trials)\n",
    "\n",
    "ax.set_title(f'Final $x$ vs Noise Level, $a={data['a_s'][1]:.1f}$')\n",
    "ax.set_xlabel(r'$\\sigma$')\n",
    "ax.set_ylabel('Final $x$')\n",
    "ax.legend()\n",
    "plt.show()"
   ]
  },
  {
   "cell_type": "code",
   "execution_count": null,
   "id": "7d88db02",
   "metadata": {},
   "outputs": [],
   "source": [
    "ax = plt.subplot()\n",
    "\n",
    "plot_spread(ax, x_final_second_b, data['sigmas'], n_trials, show_std=False)\n",
    "\n",
    "ax.set_title(f'(a) $a={data['a_s'][1]:.1f}$')\n",
    "ax.set_xlabel(r'$\\sigma$')\n",
    "ax.set_ylabel('Final $y$')\n",
    "ax.legend()\n",
    "plt.show()"
   ]
  },
  {
   "cell_type": "code",
   "execution_count": null,
   "id": "4fb93350",
   "metadata": {},
   "outputs": [],
   "source": [
    "ax = plt.subplot()\n",
    "\n",
    "plot_spread(ax, data['x_final'][4,:,:], data['sigmas'], n_trials, show_std=False)\n",
    "\n",
    "ax.set_title(f'(b) $a={data['a_s'][4]:.1f}$')\n",
    "ax.set_xlabel(r'$\\sigma$')\n",
    "ax.set_ylabel('Final $y$')\n",
    "ax.legend()\n",
    "plt.show()"
   ]
  },
  {
   "cell_type": "code",
   "execution_count": null,
   "id": "ad565ce0",
   "metadata": {},
   "outputs": [],
   "source": [
    "ax = plt.subplot()\n",
    "\n",
    "plot_spread(ax, data['x_final'][20,:,:], data['sigmas'], n_trials, show_std=False)\n",
    "\n",
    "ax.set_title(f'(c) $a={data['a_s'][20]:.1f}$')\n",
    "ax.set_xlabel(r'$\\sigma$')\n",
    "ax.set_ylabel('Final $y$')\n",
    "ax.legend()\n",
    "plt.show()"
   ]
  },
  {
   "cell_type": "code",
   "execution_count": null,
   "id": "82517cc3",
   "metadata": {},
   "outputs": [],
   "source": [
    "ax = plt.subplot()\n",
    "\n",
    "plot_spread(ax, data['x_final'][-1,:,:], data['sigmas'], n_trials, show_std=False)\n",
    "\n",
    "ax.set_title(f'(d) $a={data['a_s'][-1]:.1f}$')\n",
    "ax.set_xlabel(r'$\\sigma$')\n",
    "ax.set_ylabel('Final $y$')\n",
    "ax.legend()\n",
    "plt.show()"
   ]
  },
  {
   "cell_type": "code",
   "execution_count": null,
   "id": "2eeb7f70",
   "metadata": {},
   "outputs": [],
   "source": [
    "ax = plt.subplot()\n",
    "\n",
    "plot_spread(ax, H_final_second_b, data['sigmas'], n_trials)\n",
    "\n",
    "ax.set_title(f'Final $H$ vs Noise Level, $a={data['a_s'][1]:.1f}$')\n",
    "ax.set_xlabel(r'$\\sigma$')\n",
    "ax.set_ylabel('Final $H$')\n",
    "ax.legend()\n",
    "plt.show()"
   ]
  },
  {
   "cell_type": "code",
   "execution_count": null,
   "id": "23a6e7e2",
   "metadata": {},
   "outputs": [],
   "source": [
    "ax = plt.subplot()\n",
    "\n",
    "plot_spread(ax, H_final_second_b, data['sigmas'], n_trials, show_std=False)\n",
    "\n",
    "ax.set_title(f'Final $H$ vs Noise Level, $a={data['a_s'][1]:.1f}$')\n",
    "ax.set_xlabel(r'$\\sigma$')\n",
    "ax.set_ylabel(r'Final $H$')\n",
    "ax.legend()\n",
    "plt.show()"
   ]
  },
  {
   "cell_type": "code",
   "execution_count": null,
   "id": "8590dda9-e8a8-4e91-a798-e73f448acea4",
   "metadata": {},
   "outputs": [],
   "source": [
    "x_available = np.count_nonzero(x_final_second_b, axis=-1)\n",
    "x_available"
   ]
  },
  {
   "cell_type": "code",
   "execution_count": null,
   "id": "af46ff19-26f6-4cf1-95a2-795619ea31d2",
   "metadata": {},
   "outputs": [],
   "source": [
    "x_available / n_trials"
   ]
  },
  {
   "cell_type": "code",
   "execution_count": null,
   "id": "93064fe0-9703-4d60-9103-477f1ad59eeb",
   "metadata": {},
   "outputs": [],
   "source": [
    "x_final_second_b[1,:]"
   ]
  },
  {
   "cell_type": "code",
   "execution_count": null,
   "id": "934963c8-0f3a-4a52-bf7b-ece7aa764e85",
   "metadata": {},
   "outputs": [],
   "source": [
    "x_available = np.count_nonzero(x_final_second_b > 0.001, axis=-1)\n",
    "x_available"
   ]
  },
  {
   "cell_type": "code",
   "execution_count": null,
   "id": "c04dd8e0-5b29-4e68-9cb5-f43fcf582c36",
   "metadata": {},
   "outputs": [],
   "source": [
    "x_available = np.count_nonzero(x_final_second_b > 0.005, axis=-1)\n",
    "x_available"
   ]
  },
  {
   "cell_type": "code",
   "execution_count": null,
   "id": "26b74e7b-d5b5-4ba3-adba-0e57e771a9f2",
   "metadata": {},
   "outputs": [],
   "source": [
    "x_available = np.count_nonzero(x_final_second_b > 0.01, axis=-1)\n",
    "x_available"
   ]
  },
  {
   "cell_type": "code",
   "execution_count": null,
   "id": "8ed599f4-e65d-4b87-87ea-aa33a5f6264e",
   "metadata": {},
   "outputs": [],
   "source": [
    "probs = x_available / n_trials\n",
    "probs"
   ]
  },
  {
   "cell_type": "code",
   "execution_count": null,
   "id": "dc2e89ea-bcc4-4025-8ba8-6fe552cb5377",
   "metadata": {},
   "outputs": [],
   "source": [
    "plt.plot(data['sigmas'], probs, 'o')"
   ]
  },
  {
   "cell_type": "code",
   "execution_count": null,
   "id": "ff5c01d6-3c41-4e03-838d-c1169f2770e9",
   "metadata": {},
   "outputs": [],
   "source": [
    "x_available = np.count_nonzero(data['x_final'][-1,:,:] > 0.001, axis=-1)\n",
    "x_available"
   ]
  },
  {
   "cell_type": "code",
   "execution_count": null,
   "id": "949f1ba1-61ee-4c36-bbf4-a6d6561deb18",
   "metadata": {},
   "outputs": [],
   "source": [
    "x_available = np.count_nonzero(data['x_final'][-1,:,:] > 0.01, axis=-1)\n",
    "x_available"
   ]
  },
  {
   "cell_type": "code",
   "execution_count": null,
   "id": "4aa565d8-0293-4d79-909d-178576012a99",
   "metadata": {},
   "outputs": [],
   "source": []
  },
  {
   "cell_type": "code",
   "execution_count": null,
   "id": "588f3149-59a6-467a-b515-c330ff90abba",
   "metadata": {},
   "outputs": [],
   "source": [
    "x_available = np.count_nonzero(data['x_final'] > 0.01, axis=-1)\n",
    "probs = x_available / n_trials\n",
    "probs.shape"
   ]
  },
  {
   "cell_type": "code",
   "execution_count": null,
   "id": "4a617620-3b51-4e5c-8ed0-7ce205b5022e",
   "metadata": {},
   "outputs": [],
   "source": [
    "probs[0,:]"
   ]
  },
  {
   "cell_type": "code",
   "execution_count": null,
   "id": "a89d5ee4-c77a-475a-9e39-1465c3438f6c",
   "metadata": {},
   "outputs": [],
   "source": [
    "probs[-1,:]"
   ]
  },
  {
   "cell_type": "code",
   "execution_count": null,
   "id": "94f711df-fe88-417f-b0cd-f3087c253187",
   "metadata": {},
   "outputs": [],
   "source": [
    "probs[:,0]"
   ]
  },
  {
   "cell_type": "code",
   "execution_count": null,
   "id": "85511e8a-27d6-481e-a2a8-45d164e2f540",
   "metadata": {},
   "outputs": [],
   "source": [
    "probs[:,-1]"
   ]
  },
  {
   "cell_type": "code",
   "execution_count": null,
   "id": "d2a0fc59-3f76-4e5a-a1df-c4ec78e21f0c",
   "metadata": {},
   "outputs": [],
   "source": [
    "X, Y = np.meshgrid(data['sigmas'], data['a_s'])\n",
    "\n",
    "fig = plt.figure()\n",
    "ax = fig.add_subplot(111, projection='3d')\n",
    "\n",
    "ax.plot_surface(X, Y, probs, cmap='viridis')\n",
    "\n",
    "ax.set_xlabel(r'$\\sigma$')\n",
    "ax.set_ylabel('$a$')\n",
    "ax.set_zlabel('Probability of resource availability')\n",
    "\n",
    "plt.show()"
   ]
  },
  {
   "cell_type": "code",
   "execution_count": null,
   "id": "caff1a67",
   "metadata": {},
   "outputs": [],
   "source": [
    "plt.pcolormesh(data['a_s'], data['sigmas'], probs.T, cmap='viridis')\n",
    "plt.colorbar(label='Probability of resource availability')\n",
    "plt.xlabel('$a$')\n",
    "plt.ylabel(r'$\\sigma$')\n",
    "plt.show()"
   ]
  },
  {
   "cell_type": "code",
   "execution_count": null,
   "id": "aa4fc059",
   "metadata": {},
   "outputs": [],
   "source": [
    "plt.plot(data['sigmas'], probs[1, :], 'o')\n",
    "plt.xlabel(r'$\\sigma$')\n",
    "plt.ylabel('Probability of resource availability')"
   ]
  },
  {
   "cell_type": "code",
   "execution_count": null,
   "id": "53a97d12",
   "metadata": {},
   "outputs": [],
   "source": [
    "plt.plot(data['sigmas'], probs[-1, :], 'o')\n",
    "plt.xlabel(r'$\\sigma$')\n",
    "plt.ylabel('Probability of resource availability')"
   ]
  },
  {
   "cell_type": "code",
   "execution_count": null,
   "id": "2aaec02c",
   "metadata": {},
   "outputs": [],
   "source": [
    "plt.plot(data['sigmas'], probs[int(probs.shape[0] / 2), :], 'o')\n",
    "plt.xlabel(r'$\\sigma$')\n",
    "plt.ylabel('Probability of resource availability')"
   ]
  },
  {
   "cell_type": "code",
   "execution_count": null,
   "id": "d574fa8c",
   "metadata": {},
   "outputs": [],
   "source": [
    "plt.plot(data['sigmas'], probs[6, :], 'o')\n",
    "plt.xlabel(r'$\\sigma$')\n",
    "plt.ylabel('Probability of resource availability')"
   ]
  },
  {
   "cell_type": "code",
   "execution_count": null,
   "id": "e8f47419",
   "metadata": {},
   "outputs": [],
   "source": []
  }
 ],
 "metadata": {
  "kernelspec": {
   "display_name": "data",
   "language": "python",
   "name": "python3"
  },
  "language_info": {
   "codemirror_mode": {
    "name": "ipython",
    "version": 3
   },
   "file_extension": ".py",
   "mimetype": "text/x-python",
   "name": "python",
   "nbconvert_exporter": "python",
   "pygments_lexer": "ipython3",
   "version": "3.13.7"
  }
 },
 "nbformat": 4,
 "nbformat_minor": 5
}
